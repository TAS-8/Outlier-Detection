{
 "cells": [
  {
   "cell_type": "code",
   "execution_count": null,
   "metadata": {},
   "outputs": [],
   "source": [
    "import numpy as np  #handling data arrays\n",
    "from sklearn.cluster import DBSCAN  #Providing DBSCAN implementation, making it easy to apply clustering and outlier detection\n",
    "import matplotlib.pyplot as plt #to visualize the clusters and outliers\n",
    "from sklearn.datasets import make_blobs  # for generating sample data"
   ]
  },
  {
   "cell_type": "code",
   "execution_count": null,
   "metadata": {},
   "outputs": [],
   "source": []
  }
 ],
 "metadata": {
  "language_info": {
   "name": "python"
  }
 },
 "nbformat": 4,
 "nbformat_minor": 2
}
