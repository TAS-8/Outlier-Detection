{
 "cells": [
  {
   "cell_type": "code",
   "execution_count": 2,
   "metadata": {},
   "outputs": [],
   "source": [
    "import numpy as np  #handling data arrays\n",
    "from sklearn.cluster import DBSCAN  #Providing DBSCAN implementation, making it easy to apply clustering and outlier detection\n",
    "import matplotlib.pyplot as plt #to visualize the clusters and outliers\n",
    "from sklearn.datasets import make_blobs  # for generating sample data"
   ]
  },
  {
   "cell_type": "code",
   "execution_count": 4,
   "metadata": {},
   "outputs": [
    {
     "name": "stdout",
     "output_type": "stream",
     "text": [
      "Data shape: (320, 2)\n"
     ]
    }
   ],
   "source": [
    "#Preparing data by generating a sample dataset using make_blob\n",
    "X, _ = make_blobs(n_samples=300, centers=3, cluster_std=0.6, random_state=0)\n",
    "#300 data points with 3 defined clusters\n",
    "\n",
    "outliers = np.random.uniform(low=-10, high=10, size=(20, 2))\n",
    "#20 random points within a range to simulate outliers\n",
    "X = np.vstack([X, outliers])  \n",
    "#Combine clusters and outliers into one array\n",
    "\n",
    "#Displaying the shape of the dataset to confirm\n",
    "print(\"Data shape:\", X.shape)\n",
    "\n",
    "#X now contains clusters and outliers"
   ]
  }
 ],
 "metadata": {
  "kernelspec": {
   "display_name": "Python 3",
   "language": "python",
   "name": "python3"
  },
  "language_info": {
   "codemirror_mode": {
    "name": "ipython",
    "version": 3
   },
   "file_extension": ".py",
   "mimetype": "text/x-python",
   "name": "python",
   "nbconvert_exporter": "python",
   "pygments_lexer": "ipython3",
   "version": "3.13.0"
  }
 },
 "nbformat": 4,
 "nbformat_minor": 2
}
